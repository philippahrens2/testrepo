{
 "cells": [
  {
   "cell_type": "markdown",
   "metadata": {},
   "source": [
    "# Getting information from a list of tweets (e.g., favorites & retweets)\n",
    "\n",
    "This set of instructions should help you get started with the Twitter API, and to collect additional information from specific tweets (e.g., retweet and favorite count). You need to have the specific tweet id's available to run this script.\n",
    "\n",
    "## Requirements\n",
    "\n",
    "To run this code, you need to do the following actions.\n",
    "\n",
    "### 1. Install the appropriate Python modules\n",
    "\n",
    "In Terminal or Anaconda Prompt, run the following commands:\n",
    "\n",
    "```conda install openpyxl```\n",
    "\n",
    "```conda install pip```\n",
    "\n",
    "```pip install twython```\n",
    "\n",
    "### 2. Create a Twitter app and get the application credentials\n",
    "\n",
    "More information can be found here: https://www.slickremix.com/docs/how-to-get-api-keys-and-tokens-for-twitter/\n",
    "\n",
    "After you created the app, get the following information:\n",
    "* Consumer key\n",
    "* Consumer secret\n",
    "* Access token\n",
    "* Access token secret\n",
    "\n",
    "With this information, update the variables below and run the code. Do not change the variable names, just their values."
   ]
  },
  {
   "cell_type": "code",
   "execution_count": null,
   "metadata": {},
   "outputs": [],
   "source": [
    "consumer_key = 'UPDATEHERE'\n",
    "consumer_secret = 'UPDATEHERE'\n",
    "access_token = 'UPDATEHERE'\n",
    "access_token_secret = 'UPDATEHERE'"
   ]
  },
  {
   "cell_type": "markdown",
   "metadata": {},
   "source": [
    "### 3. Load the following functions\n",
    "\n",
    "Make sure you run the cells below so the functions are loaded."
   ]
  },
  {
   "cell_type": "code",
   "execution_count": null,
   "metadata": {},
   "outputs": [],
   "source": [
    "from twython import Twython, TwythonRateLimitError\n",
    "import pandas as pd\n",
    "import os\n",
    "import time\n",
    "import sys\n",
    "import pickle\n"
   ]
  },
  {
   "cell_type": "code",
   "execution_count": null,
   "metadata": {},
   "outputs": [],
   "source": [
    "def get_tweets(items_to_get):\n",
    "    items = twitter.lookup_status(id=items_to_get)\n",
    "    items = pd.DataFrame(items)\n",
    "    time.sleep(5)\n",
    "    return items\n",
    "\n",
    "\n",
    "\n",
    "\n",
    "def get_ids(filename):\n",
    "    results = pd.DataFrame()\n",
    "    source = pd.read_pickle(filename)\n",
    "    tweetIds = source['id'].values.tolist()\n",
    "    print('There is a total of', len(tweetIds), 'to be retrieved.\\n\\nNOTE: This can take a while. Make sure your computer is always connected to the internet, and do not shut it down until this is completed.\\n')\n",
    "\n",
    "\n",
    "    filesave = filename.replace('.pkl', '_results.pkl')\n",
    "    counter = 0\n",
    "    start = 0\n",
    "    while counter < len(tweetIds):\n",
    "        counter += 100\n",
    "        items_to_get = tweetIds[start:counter]\n",
    "        items = get_tweets(items_to_get)\n",
    "        results = results.append(items)\n",
    "        print('collected a total of', counter, 'tweets (out of', len(tweetIds),')')\n",
    "        results.to_pickle(filesave)\n",
    "\n",
    "        start = counter\n",
    "\n",
    "\n",
    "    results.drop_duplicates(subset=\"id\").to_pickle(filesave)\n",
    "    print('Completed! The results are stored in the file:', filesave)\n",
    "    return results"
   ]
  },
  {
   "cell_type": "code",
   "execution_count": null,
   "metadata": {},
   "outputs": [],
   "source": [
    "twitter = Twython(consumer_key, consumer_secret, access_token, access_token_secret)"
   ]
  },
  {
   "cell_type": "markdown",
   "metadata": {},
   "source": [
    "### 4. Run the code\n",
    "\n",
    "You need to update the filename below and run the code. The results will be saved in a new pickle file in the same folder."
   ]
  },
  {
   "cell_type": "code",
   "execution_count": null,
   "metadata": {},
   "outputs": [],
   "source": [
    "filename = 'google.pkl'"
   ]
  },
  {
   "cell_type": "code",
   "execution_count": null,
   "metadata": {},
   "outputs": [],
   "source": [
    "for username in usernames:\n",
    "    get_tweets(username)"
   ]
  },
  {
   "cell_type": "code",
   "execution_count": null,
   "metadata": {},
   "outputs": [],
   "source": []
  }
 ],
 "metadata": {
  "kernelspec": {
   "display_name": "Python 3",
   "language": "python",
   "name": "python3"
  },
  "language_info": {
   "codemirror_mode": {
    "name": "ipython",
    "version": 3
   },
   "file_extension": ".py",
   "mimetype": "text/x-python",
   "name": "python",
   "nbconvert_exporter": "python",
   "pygments_lexer": "ipython3",
   "version": "3.6.4"
  }
 },
 "nbformat": 4,
 "nbformat_minor": 2
}
